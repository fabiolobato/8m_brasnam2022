{
 "cells": [
  {
   "cell_type": "code",
   "execution_count": null,
   "metadata": {
    "ExecuteTime": {
     "end_time": "2021-04-16T02:15:36.484121Z",
     "start_time": "2021-04-16T02:15:35.728275Z"
    }
   },
   "outputs": [],
   "source": [
    "import os\n",
    "\n",
    "import pandas as pd\n",
    "import seaborn as sns\n",
    "from tqdm.notebook import tqdm\n",
    "from matplotlib import pyplot as plt"
   ]
  },
  {
   "cell_type": "code",
   "execution_count": null,
   "metadata": {
    "ExecuteTime": {
     "end_time": "2021-04-16T02:15:36.487684Z",
     "start_time": "2021-04-16T02:15:36.485633Z"
    }
   },
   "outputs": [],
   "source": [
    "path = \"outputs_csv/\""
   ]
  },
  {
   "cell_type": "code",
   "execution_count": null,
   "metadata": {
    "ExecuteTime": {
     "end_time": "2021-04-16T02:15:36.497693Z",
     "start_time": "2021-04-16T02:15:36.488800Z"
    }
   },
   "outputs": [],
   "source": [
    "files = pd.Series(os.listdir(path))"
   ]
  },
  {
   "cell_type": "code",
   "execution_count": null,
   "metadata": {
    "ExecuteTime": {
     "end_time": "2021-04-16T02:15:36.510736Z",
     "start_time": "2021-04-16T02:15:36.499105Z"
    }
   },
   "outputs": [],
   "source": [
    "files"
   ]
  },
  {
   "cell_type": "code",
   "execution_count": null,
   "metadata": {
    "ExecuteTime": {
     "end_time": "2021-04-16T02:15:36.520880Z",
     "start_time": "2021-04-16T02:15:36.512152Z"
    }
   },
   "outputs": [],
   "source": [
    "files_csv = files[files.str.match(r'(out)\\S+') == True]\n",
    "files_csv.reset_index(drop=True, inplace=True)"
   ]
  },
  {
   "cell_type": "code",
   "execution_count": null,
   "metadata": {
    "ExecuteTime": {
     "end_time": "2021-04-16T02:15:36.532491Z",
     "start_time": "2021-04-16T02:15:36.522129Z"
    }
   },
   "outputs": [],
   "source": [
    "sorted(files_csv)"
   ]
  },
  {
   "cell_type": "code",
   "execution_count": null,
   "metadata": {
    "ExecuteTime": {
     "end_time": "2021-04-16T02:15:36.542109Z",
     "start_time": "2021-04-16T02:15:36.534777Z"
    }
   },
   "outputs": [],
   "source": [
    "columns = ['text', 'afinn', 'happinessindex', 'opinionlexicon', 'sentiment140', 'opinionfinder',\n",
    "           'sentistrength', 'sasa', 'vader', 'umigon', 'emoticons', 'emoticonds', 'emolex',\n",
    "           'stanford', 'panas', 'socal', 'sann', 'sentiwordnet', 'nrchashtag']"
   ]
  },
  {
   "cell_type": "code",
   "execution_count": null,
   "metadata": {
    "ExecuteTime": {
     "end_time": "2021-04-16T02:15:36.571833Z",
     "start_time": "2021-04-16T02:15:36.543739Z"
    }
   },
   "outputs": [],
   "source": [
    "df = pd.read_csv(path + sorted(files_csv)[0], sep=\"\\t\")\n",
    "df.reset_index(inplace=True)\n",
    "df.columns = columns\n",
    "df.head(5)"
   ]
  },
  {
   "cell_type": "code",
   "execution_count": null,
   "metadata": {
    "ExecuteTime": {
     "end_time": "2021-04-16T02:15:36.585470Z",
     "start_time": "2021-04-16T02:15:36.573101Z"
    }
   },
   "outputs": [],
   "source": [
    "df.tail(5)"
   ]
  },
  {
   "cell_type": "code",
   "execution_count": null,
   "metadata": {
    "ExecuteTime": {
     "end_time": "2021-04-16T02:15:36.992093Z",
     "start_time": "2021-04-16T02:15:36.588087Z"
    }
   },
   "outputs": [],
   "source": [
    "for f in tqdm(range(1, len(files_csv))):\n",
    "    df2 = pd.read_csv(path + sorted(files_csv)[f], sep=\"\\t\")\n",
    "    df2.reset_index(inplace=True)\n",
    "    df2.columns = columns\n",
    "    df = df.append(df2, ignore_index=True)"
   ]
  },
  {
   "cell_type": "code",
   "execution_count": null,
   "metadata": {
    "ExecuteTime": {
     "end_time": "2021-04-16T02:15:36.996834Z",
     "start_time": "2021-04-16T02:15:36.993520Z"
    }
   },
   "outputs": [],
   "source": [
    "df.shape"
   ]
  },
  {
   "cell_type": "code",
   "execution_count": null,
   "metadata": {
    "ExecuteTime": {
     "end_time": "2021-04-16T02:15:37.018311Z",
     "start_time": "2021-04-16T02:15:36.998052Z"
    }
   },
   "outputs": [],
   "source": [
    "df.head()"
   ]
  },
  {
   "cell_type": "code",
   "execution_count": null,
   "metadata": {
    "ExecuteTime": {
     "end_time": "2021-04-16T02:15:37.031959Z",
     "start_time": "2021-04-16T02:15:37.019704Z"
    }
   },
   "outputs": [],
   "source": [
    "from statistics import mode\n",
    "\n",
    "def define_sentiment(row):\n",
    "    try:\n",
    "        result = mode(row)\n",
    "    except ValueError:\n",
    "        result = \"indefinido\"\n",
    "    return result"
   ]
  },
  {
   "cell_type": "code",
   "execution_count": null,
   "metadata": {
    "ExecuteTime": {
     "end_time": "2021-04-16T02:15:37.556261Z",
     "start_time": "2021-04-16T02:15:37.033287Z"
    }
   },
   "outputs": [],
   "source": [
    "df[\"result\"] = df.iloc[:,1:].apply(define_sentiment, axis=1)"
   ]
  },
  {
   "cell_type": "code",
   "execution_count": null,
   "metadata": {
    "ExecuteTime": {
     "end_time": "2021-04-16T02:15:37.586086Z",
     "start_time": "2021-04-16T02:15:37.557641Z"
    }
   },
   "outputs": [],
   "source": [
    "df[df[\"result\"] == 0]"
   ]
  },
  {
   "cell_type": "code",
   "execution_count": null,
   "metadata": {
    "ExecuteTime": {
     "end_time": "2021-04-16T02:15:37.609190Z",
     "start_time": "2021-04-16T02:15:37.587627Z"
    }
   },
   "outputs": [],
   "source": [
    "df[df[\"result\"] == 1]"
   ]
  },
  {
   "cell_type": "code",
   "execution_count": null,
   "metadata": {
    "ExecuteTime": {
     "end_time": "2021-04-16T02:15:37.639330Z",
     "start_time": "2021-04-16T02:15:37.610639Z"
    }
   },
   "outputs": [],
   "source": [
    "df[df[\"result\"] == -1]"
   ]
  },
  {
   "cell_type": "code",
   "execution_count": null,
   "metadata": {
    "ExecuteTime": {
     "end_time": "2021-04-16T02:15:37.645099Z",
     "start_time": "2021-04-16T02:15:37.640642Z"
    }
   },
   "outputs": [],
   "source": [
    "polarity_df = df[['text', 'result']]"
   ]
  },
  {
   "cell_type": "code",
   "execution_count": null,
   "metadata": {
    "ExecuteTime": {
     "end_time": "2021-04-16T02:15:37.661462Z",
     "start_time": "2021-04-16T02:15:37.646607Z"
    }
   },
   "outputs": [],
   "source": [
    "polarity_df"
   ]
  },
  {
   "cell_type": "code",
   "execution_count": null,
   "metadata": {
    "ExecuteTime": {
     "end_time": "2021-04-16T02:15:37.681379Z",
     "start_time": "2021-04-16T02:15:37.663123Z"
    }
   },
   "outputs": [],
   "source": [
    "polarities = polarity_df['result'].value_counts().rename_axis(\n",
    "    'polarity').reset_index(name='count')"
   ]
  },
  {
   "cell_type": "code",
   "execution_count": null,
   "metadata": {
    "ExecuteTime": {
     "end_time": "2021-04-16T02:15:37.694877Z",
     "start_time": "2021-04-16T02:15:37.682849Z"
    }
   },
   "outputs": [],
   "source": [
    "polarities.loc[polarities['polarity'] == 1, 'polarity']  = 'positivo'\n",
    "polarities.loc[polarities['polarity'] == 0, 'polarity'] = 'neutro'\n",
    "polarities.loc[polarities['polarity'] == -1, 'polarity']  = 'negativo'"
   ]
  },
  {
   "cell_type": "code",
   "execution_count": null,
   "metadata": {
    "ExecuteTime": {
     "end_time": "2021-04-16T02:15:37.708636Z",
     "start_time": "2021-04-16T02:15:37.696143Z"
    }
   },
   "outputs": [],
   "source": [
    "polarities"
   ]
  },
  {
   "cell_type": "code",
   "execution_count": null,
   "metadata": {
    "ExecuteTime": {
     "end_time": "2021-04-16T02:18:36.998407Z",
     "start_time": "2021-04-16T02:18:36.840631Z"
    }
   },
   "outputs": [],
   "source": [
    "plt.figure(figsize=(10,5))\n",
    "sns.set(style=\"whitegrid\", font_scale = 1.5)\n",
    "ax = sns.barplot(data=polarities, x='polarity', y='count', color='gray')\n",
    "sns.despine(left=True)\n",
    "# ax.set_ylabel('nº de tweets')\n",
    "# ax.set_xlabel('Polaridade')\n",
    "ax.set(xlabel=None)  \n",
    "ax.set(ylabel=None)\n",
    "plt.show()"
   ]
  },
  {
   "cell_type": "code",
   "execution_count": null,
   "metadata": {
    "ExecuteTime": {
     "end_time": "2021-04-16T02:15:38.195150Z",
     "start_time": "2021-04-16T02:15:37.949200Z"
    }
   },
   "outputs": [],
   "source": [
    "df.to_csv('sentiment_analysis.csv')"
   ]
  },
  {
   "cell_type": "code",
   "execution_count": null,
   "metadata": {},
   "outputs": [],
   "source": []
  }
 ],
 "metadata": {
  "kernelspec": {
   "display_name": "Python 3.8.10 64-bit",
   "language": "python",
   "name": "python3"
  },
  "language_info": {
   "codemirror_mode": {
    "name": "ipython",
    "version": 3
   },
   "file_extension": ".py",
   "mimetype": "text/x-python",
   "name": "python",
   "nbconvert_exporter": "python",
   "pygments_lexer": "ipython3",
   "version": "3.8.10"
  },
  "toc": {
   "base_numbering": 1,
   "nav_menu": {},
   "number_sections": true,
   "sideBar": true,
   "skip_h1_title": false,
   "title_cell": "Table of Contents",
   "title_sidebar": "Contents",
   "toc_cell": false,
   "toc_position": {},
   "toc_section_display": true,
   "toc_window_display": false
  },
  "vscode": {
   "interpreter": {
    "hash": "31f2aee4e71d21fbe5cf8b01ff0e069b9275f58929596ceb00d14d90e3e16cd6"
   }
  }
 },
 "nbformat": 4,
 "nbformat_minor": 4
}
