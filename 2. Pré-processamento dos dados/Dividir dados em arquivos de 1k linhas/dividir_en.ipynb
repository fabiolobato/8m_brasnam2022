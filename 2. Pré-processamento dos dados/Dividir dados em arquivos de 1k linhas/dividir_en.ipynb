{
 "cells": [
  {
   "cell_type": "code",
   "execution_count": null,
   "metadata": {
    "ExecuteTime": {
     "end_time": "2021-05-22T01:13:12.138914Z",
     "start_time": "2021-05-22T01:13:12.133446Z"
    }
   },
   "outputs": [],
   "source": [
    "from tqdm import trange"
   ]
  },
  {
   "cell_type": "code",
   "execution_count": null,
   "metadata": {
    "ExecuteTime": {
     "end_time": "2021-05-22T01:13:12.253256Z",
     "start_time": "2021-05-22T01:13:12.140255Z"
    }
   },
   "outputs": [],
   "source": [
    "with open(\"tweets_en.txt\", \"r\") as file:\n",
    "    tweets = file.readlines()"
   ]
  },
  {
   "cell_type": "code",
   "execution_count": null,
   "metadata": {
    "ExecuteTime": {
     "end_time": "2021-05-22T01:13:12.278122Z",
     "start_time": "2021-05-22T01:13:12.254508Z"
    }
   },
   "outputs": [],
   "source": [
    "len(tweets)"
   ]
  },
  {
   "cell_type": "code",
   "execution_count": null,
   "metadata": {
    "ExecuteTime": {
     "end_time": "2021-05-22T01:13:12.286698Z",
     "start_time": "2021-05-22T01:13:12.279330Z"
    }
   },
   "outputs": [],
   "source": [
    "steps = len(tweets) // 1000"
   ]
  },
  {
   "cell_type": "code",
   "execution_count": null,
   "metadata": {
    "ExecuteTime": {
     "end_time": "2021-05-22T01:13:12.296204Z",
     "start_time": "2021-05-22T01:13:12.288007Z"
    }
   },
   "outputs": [],
   "source": [
    "start = 0\n",
    "end = 1000"
   ]
  },
  {
   "cell_type": "code",
   "execution_count": null,
   "metadata": {
    "ExecuteTime": {
     "end_time": "2021-05-22T01:13:12.516481Z",
     "start_time": "2021-05-22T01:13:12.298585Z"
    }
   },
   "outputs": [],
   "source": [
    "for i in trange(steps):\n",
    "    with open(f\"arquivos_en/tweets_en_{i+1}.txt\", \"w\") as file:\n",
    "        file.writelines(tweets[start:end])\n",
    "    start = end\n",
    "    end += 1000"
   ]
  },
  {
   "cell_type": "code",
   "execution_count": null,
   "metadata": {
    "ExecuteTime": {
     "end_time": "2021-05-22T01:13:12.522277Z",
     "start_time": "2021-05-22T01:13:12.518602Z"
    }
   },
   "outputs": [],
   "source": [
    "with open(f\"arquivos_en/tweets_en_{steps+1}.txt\", \"w\") as file:\n",
    "        file.writelines(tweets[start:])"
   ]
  }
 ],
 "metadata": {
  "kernelspec": {
   "display_name": "Python 3.8.10 64-bit",
   "language": "python",
   "name": "python3"
  },
  "language_info": {
   "codemirror_mode": {
    "name": "ipython",
    "version": 3
   },
   "file_extension": ".py",
   "mimetype": "text/x-python",
   "name": "python",
   "nbconvert_exporter": "python",
   "pygments_lexer": "ipython3",
   "version": "3.8.10"
  },
  "toc": {
   "base_numbering": 1,
   "nav_menu": {},
   "number_sections": true,
   "sideBar": true,
   "skip_h1_title": false,
   "title_cell": "Table of Contents",
   "title_sidebar": "Contents",
   "toc_cell": false,
   "toc_position": {},
   "toc_section_display": true,
   "toc_window_display": false
  },
  "vscode": {
   "interpreter": {
    "hash": "31f2aee4e71d21fbe5cf8b01ff0e069b9275f58929596ceb00d14d90e3e16cd6"
   }
  }
 },
 "nbformat": 4,
 "nbformat_minor": 4
}
